{
 "cells": [
  {
   "cell_type": "markdown",
   "metadata": {},
   "source": [
    "# Text classification with movie reviews\n",
    "https://www.tensorflow.org/tutorials/keras/basic_text_classification"
   ]
  },
  {
   "cell_type": "markdown",
   "metadata": {},
   "source": [
    "## Import dependencies"
   ]
  },
  {
   "cell_type": "code",
   "execution_count": 3,
   "metadata": {},
   "outputs": [
    {
     "name": "stdout",
     "output_type": "stream",
     "text": [
      "1.11.0\n"
     ]
    }
   ],
   "source": [
    "import tensorflow as tf\n",
    "from tensorflow import keras\n",
    "\n",
    "import numpy as np\n",
    "\n",
    "print(tf.__version__)"
   ]
  },
  {
   "cell_type": "markdown",
   "metadata": {},
   "source": [
    "## Download IMDB movies dataset"
   ]
  },
  {
   "cell_type": "code",
   "execution_count": 7,
   "metadata": {},
   "outputs": [],
   "source": [
    "imdb = keras.datasets.imdb\n",
    "\n",
    "(train_data, train_labels), (test_data, test_labels) = imdb.load_data(num_words=10000)"
   ]
  },
  {
   "cell_type": "markdown",
   "metadata": {},
   "source": [
    "## Explore the data"
   ]
  },
  {
   "cell_type": "code",
   "execution_count": 8,
   "metadata": {},
   "outputs": [
    {
     "name": "stdout",
     "output_type": "stream",
     "text": [
      "Training entries: 25000, labels: 25000\n"
     ]
    }
   ],
   "source": [
    "print(\"Training entries: {}, labels: {}\".format(len(train_data), len(train_labels)))"
   ]
  },
  {
   "cell_type": "code",
   "execution_count": 9,
   "metadata": {},
   "outputs": [
    {
     "name": "stdout",
     "output_type": "stream",
     "text": [
      "[1, 14, 22, 16, 43, 530, 973, 1622, 1385, 65, 458, 4468, 66, 3941, 4, 173, 36, 256, 5, 25, 100, 43, 838, 112, 50, 670, 2, 9, 35, 480, 284, 5, 150, 4, 172, 112, 167, 2, 336, 385, 39, 4, 172, 4536, 1111, 17, 546, 38, 13, 447, 4, 192, 50, 16, 6, 147, 2025, 19, 14, 22, 4, 1920, 4613, 469, 4, 22, 71, 87, 12, 16, 43, 530, 38, 76, 15, 13, 1247, 4, 22, 17, 515, 17, 12, 16, 626, 18, 2, 5, 62, 386, 12, 8, 316, 8, 106, 5, 4, 2223, 5244, 16, 480, 66, 3785, 33, 4, 130, 12, 16, 38, 619, 5, 25, 124, 51, 36, 135, 48, 25, 1415, 33, 6, 22, 12, 215, 28, 77, 52, 5, 14, 407, 16, 82, 2, 8, 4, 107, 117, 5952, 15, 256, 4, 2, 7, 3766, 5, 723, 36, 71, 43, 530, 476, 26, 400, 317, 46, 7, 4, 2, 1029, 13, 104, 88, 4, 381, 15, 297, 98, 32, 2071, 56, 26, 141, 6, 194, 7486, 18, 4, 226, 22, 21, 134, 476, 26, 480, 5, 144, 30, 5535, 18, 51, 36, 28, 224, 92, 25, 104, 4, 226, 65, 16, 38, 1334, 88, 12, 16, 283, 5, 16, 4472, 113, 103, 32, 15, 16, 5345, 19, 178, 32]\n"
     ]
    }
   ],
   "source": [
    "print(train_data[0])"
   ]
  },
  {
   "cell_type": "code",
   "execution_count": 10,
   "metadata": {},
   "outputs": [
    {
     "data": {
      "text/plain": [
       "(218, 189)"
      ]
     },
     "execution_count": 10,
     "metadata": {},
     "output_type": "execute_result"
    }
   ],
   "source": [
    "len(train_data[0]), len(train_data[1])"
   ]
  },
  {
   "cell_type": "markdown",
   "metadata": {},
   "source": [
    "### Convert the integers back to words"
   ]
  },
  {
   "cell_type": "code",
   "execution_count": 11,
   "metadata": {},
   "outputs": [
    {
     "name": "stdout",
     "output_type": "stream",
     "text": [
      "Downloading data from https://storage.googleapis.com/tensorflow/tf-keras-datasets/imdb_word_index.json\n",
      "1646592/1641221 [==============================] - 0s 0us/step\n",
      "1654784/1641221 [==============================] - 0s 0us/step\n"
     ]
    }
   ],
   "source": [
    "# A dictionary mapping words to an integer index\n",
    "word_index = imdb.get_word_index()\n",
    "\n",
    "# The first indices are reserved\n",
    "word_index = {k:(v+3) for k,v in word_index.items()} \n",
    "word_index[\"<PAD>\"] = 0\n",
    "word_index[\"<START>\"] = 1\n",
    "word_index[\"<UNK>\"] = 2  # unknown\n",
    "word_index[\"<UNUSED>\"] = 3\n",
    "\n",
    "reverse_word_index = dict([(value, key) for (key, value) in word_index.items()])\n",
    "\n",
    "def decode_review(text):\n",
    "    return ' '.join([reverse_word_index.get(i, '?') for i in text])"
   ]
  },
  {
   "cell_type": "code",
   "execution_count": 12,
   "metadata": {},
   "outputs": [
    {
     "data": {
      "text/plain": [
       "u\"<START> this film was just brilliant casting location scenery story direction everyone's really suited the part they played and you could just imagine being there robert <UNK> is an amazing actor and now the same being director <UNK> father came from the same scottish island as myself so i loved the fact there was a real connection with this film the witty remarks throughout the film were great it was just brilliant so much that i bought the film as soon as it was released for <UNK> and would recommend it to everyone to watch and the fly fishing was amazing really cried at the end it was so sad and you know what they say if you cry at a film it must have been good and this definitely was also <UNK> to the two little boy's that played the <UNK> of norman and paul they were just brilliant children are often left out of the <UNK> list i think because the stars that play them all grown up are such a big profile for the whole film but these children are amazing and should be praised for what they have done don't you think the whole story was so lovely because it was true and was someone's life after all that was shared with us all\""
      ]
     },
     "execution_count": 12,
     "metadata": {},
     "output_type": "execute_result"
    }
   ],
   "source": [
    "decode_review(train_data[0])"
   ]
  },
  {
   "cell_type": "markdown",
   "metadata": {},
   "source": [
    "## Prepare the data"
   ]
  },
  {
   "cell_type": "markdown",
   "metadata": {},
   "source": [
    "train_data and test_data arrays must have same length"
   ]
  },
  {
   "cell_type": "code",
   "execution_count": 13,
   "metadata": {},
   "outputs": [],
   "source": [
    "train_data = keras.preprocessing.sequence.pad_sequences(train_data,\n",
    "                                                        value=word_index[\"<PAD>\"],\n",
    "                                                        padding='post',\n",
    "                                                        maxlen=256)\n",
    "\n",
    "test_data = keras.preprocessing.sequence.pad_sequences(test_data,\n",
    "                                                       value=word_index[\"<PAD>\"],\n",
    "                                                       padding='post',\n",
    "                                                       maxlen=256)"
   ]
  },
  {
   "cell_type": "code",
   "execution_count": 14,
   "metadata": {},
   "outputs": [
    {
     "data": {
      "text/plain": [
       "(256, 256)"
      ]
     },
     "execution_count": 14,
     "metadata": {},
     "output_type": "execute_result"
    }
   ],
   "source": [
    "len(train_data[0]), len(train_data[1])"
   ]
  },
  {
   "cell_type": "code",
   "execution_count": 15,
   "metadata": {},
   "outputs": [
    {
     "name": "stdout",
     "output_type": "stream",
     "text": [
      "[   1   14   22   16   43  530  973 1622 1385   65  458 4468   66 3941\n",
      "    4  173   36  256    5   25  100   43  838  112   50  670    2    9\n",
      "   35  480  284    5  150    4  172  112  167    2  336  385   39    4\n",
      "  172 4536 1111   17  546   38   13  447    4  192   50   16    6  147\n",
      " 2025   19   14   22    4 1920 4613  469    4   22   71   87   12   16\n",
      "   43  530   38   76   15   13 1247    4   22   17  515   17   12   16\n",
      "  626   18    2    5   62  386   12    8  316    8  106    5    4 2223\n",
      " 5244   16  480   66 3785   33    4  130   12   16   38  619    5   25\n",
      "  124   51   36  135   48   25 1415   33    6   22   12  215   28   77\n",
      "   52    5   14  407   16   82    2    8    4  107  117 5952   15  256\n",
      "    4    2    7 3766    5  723   36   71   43  530  476   26  400  317\n",
      "   46    7    4    2 1029   13  104   88    4  381   15  297   98   32\n",
      " 2071   56   26  141    6  194 7486   18    4  226   22   21  134  476\n",
      "   26  480    5  144   30 5535   18   51   36   28  224   92   25  104\n",
      "    4  226   65   16   38 1334   88   12   16  283    5   16 4472  113\n",
      "  103   32   15   16 5345   19  178   32    0    0    0    0    0    0\n",
      "    0    0    0    0    0    0    0    0    0    0    0    0    0    0\n",
      "    0    0    0    0    0    0    0    0    0    0    0    0    0    0\n",
      "    0    0    0    0]\n"
     ]
    }
   ],
   "source": [
    "print(train_data[0])"
   ]
  },
  {
   "cell_type": "markdown",
   "metadata": {},
   "source": [
    "## Build the model"
   ]
  },
  {
   "cell_type": "code",
   "execution_count": 16,
   "metadata": {},
   "outputs": [
    {
     "name": "stdout",
     "output_type": "stream",
     "text": [
      "_________________________________________________________________\n",
      "Layer (type)                 Output Shape              Param #   \n",
      "=================================================================\n",
      "embedding (Embedding)        (None, None, 16)          160000    \n",
      "_________________________________________________________________\n",
      "global_average_pooling1d (Gl (None, 16)                0         \n",
      "_________________________________________________________________\n",
      "dense (Dense)                (None, 16)                272       \n",
      "_________________________________________________________________\n",
      "dense_1 (Dense)              (None, 1)                 17        \n",
      "=================================================================\n",
      "Total params: 160,289\n",
      "Trainable params: 160,289\n",
      "Non-trainable params: 0\n",
      "_________________________________________________________________\n"
     ]
    }
   ],
   "source": [
    "# input shape is the vocabulary count used for the movie reviews (10,000 words)\n",
    "vocab_size = 10000\n",
    "\n",
    "model = keras.Sequential()\n",
    "model.add(keras.layers.Embedding(vocab_size, 16))\n",
    "model.add(keras.layers.GlobalAveragePooling1D())\n",
    "model.add(keras.layers.Dense(16, activation=tf.nn.relu))\n",
    "model.add(keras.layers.Dense(1, activation=tf.nn.sigmoid))\n",
    "\n",
    "model.summary()"
   ]
  },
  {
   "cell_type": "code",
   "execution_count": 17,
   "metadata": {},
   "outputs": [],
   "source": [
    "model.compile(optimizer=tf.train.AdamOptimizer(),\n",
    "              loss='binary_crossentropy',\n",
    "              metrics=['accuracy'])"
   ]
  },
  {
   "cell_type": "markdown",
   "metadata": {},
   "source": [
    "## Create a validation set"
   ]
  },
  {
   "cell_type": "code",
   "execution_count": 18,
   "metadata": {},
   "outputs": [],
   "source": [
    "x_val = train_data[:10000]\n",
    "partial_x_train = train_data[10000:]\n",
    "\n",
    "y_val = train_labels[:10000]\n",
    "partial_y_train = train_labels[10000:]"
   ]
  },
  {
   "cell_type": "markdown",
   "metadata": {},
   "source": [
    "## Train the model"
   ]
  },
  {
   "cell_type": "code",
   "execution_count": 27,
   "metadata": {},
   "outputs": [
    {
     "name": "stdout",
     "output_type": "stream",
     "text": [
      "Train on 15000 samples, validate on 10000 samples\n",
      "Epoch 1/40\n",
      "15000/15000 [==============================] - 1s 83us/step - loss: 0.0383 - acc: 0.9945 - val_loss: 0.4093 - val_acc: 0.8735\n",
      "Epoch 2/40\n",
      "15000/15000 [==============================] - 1s 81us/step - loss: 0.0367 - acc: 0.9947 - val_loss: 0.4149 - val_acc: 0.8720\n",
      "Epoch 3/40\n",
      "15000/15000 [==============================] - 1s 85us/step - loss: 0.0350 - acc: 0.9949 - val_loss: 0.4204 - val_acc: 0.8718\n",
      "Epoch 4/40\n",
      "15000/15000 [==============================] - 1s 85us/step - loss: 0.0339 - acc: 0.9946 - val_loss: 0.4276 - val_acc: 0.8710\n",
      "Epoch 5/40\n",
      "15000/15000 [==============================] - 1s 81us/step - loss: 0.0325 - acc: 0.9956 - val_loss: 0.4316 - val_acc: 0.8713\n",
      "Epoch 6/40\n",
      "15000/15000 [==============================] - 1s 80us/step - loss: 0.0308 - acc: 0.9963 - val_loss: 0.4374 - val_acc: 0.8705\n",
      "Epoch 7/40\n",
      "15000/15000 [==============================] - 1s 80us/step - loss: 0.0297 - acc: 0.9963 - val_loss: 0.4429 - val_acc: 0.8703\n",
      "Epoch 8/40\n",
      "15000/15000 [==============================] - 1s 80us/step - loss: 0.0286 - acc: 0.9965 - val_loss: 0.4485 - val_acc: 0.8694\n",
      "Epoch 9/40\n",
      "15000/15000 [==============================] - 1s 80us/step - loss: 0.0273 - acc: 0.9968 - val_loss: 0.4532 - val_acc: 0.8697\n",
      "Epoch 10/40\n",
      "15000/15000 [==============================] - 1s 80us/step - loss: 0.0263 - acc: 0.9972 - val_loss: 0.4590 - val_acc: 0.8693\n",
      "Epoch 11/40\n",
      "15000/15000 [==============================] - 1s 80us/step - loss: 0.0252 - acc: 0.9974 - val_loss: 0.4643 - val_acc: 0.8676\n",
      "Epoch 12/40\n",
      "15000/15000 [==============================] - 1s 81us/step - loss: 0.0243 - acc: 0.9973 - val_loss: 0.4706 - val_acc: 0.8672\n",
      "Epoch 13/40\n",
      "15000/15000 [==============================] - 1s 80us/step - loss: 0.0233 - acc: 0.9975 - val_loss: 0.4751 - val_acc: 0.8684\n",
      "Epoch 14/40\n",
      "15000/15000 [==============================] - 1s 80us/step - loss: 0.0225 - acc: 0.9977 - val_loss: 0.4815 - val_acc: 0.8683\n",
      "Epoch 15/40\n",
      "15000/15000 [==============================] - 1s 80us/step - loss: 0.0214 - acc: 0.9979 - val_loss: 0.4872 - val_acc: 0.8663\n",
      "Epoch 16/40\n",
      "15000/15000 [==============================] - 1s 79us/step - loss: 0.0206 - acc: 0.9981 - val_loss: 0.4917 - val_acc: 0.8666\n",
      "Epoch 17/40\n",
      "15000/15000 [==============================] - 1s 80us/step - loss: 0.0199 - acc: 0.9984 - val_loss: 0.5002 - val_acc: 0.8672\n",
      "Epoch 18/40\n",
      "15000/15000 [==============================] - 1s 80us/step - loss: 0.0190 - acc: 0.9983 - val_loss: 0.5019 - val_acc: 0.8666\n",
      "Epoch 19/40\n",
      "15000/15000 [==============================] - 1s 80us/step - loss: 0.0181 - acc: 0.9985 - val_loss: 0.5075 - val_acc: 0.8664\n",
      "Epoch 20/40\n",
      "15000/15000 [==============================] - 1s 80us/step - loss: 0.0176 - acc: 0.9986 - val_loss: 0.5129 - val_acc: 0.8668\n",
      "Epoch 21/40\n",
      "15000/15000 [==============================] - 1s 80us/step - loss: 0.0168 - acc: 0.9987 - val_loss: 0.5179 - val_acc: 0.8662\n",
      "Epoch 22/40\n",
      "15000/15000 [==============================] - 1s 80us/step - loss: 0.0159 - acc: 0.9989 - val_loss: 0.5258 - val_acc: 0.8649\n",
      "Epoch 23/40\n",
      "15000/15000 [==============================] - 1s 80us/step - loss: 0.0156 - acc: 0.9989 - val_loss: 0.5288 - val_acc: 0.8662\n",
      "Epoch 24/40\n",
      "15000/15000 [==============================] - 1s 80us/step - loss: 0.0149 - acc: 0.9991 - val_loss: 0.5342 - val_acc: 0.8661\n",
      "Epoch 25/40\n",
      "15000/15000 [==============================] - 1s 79us/step - loss: 0.0145 - acc: 0.9992 - val_loss: 0.5411 - val_acc: 0.8650\n",
      "Epoch 26/40\n",
      "15000/15000 [==============================] - 1s 80us/step - loss: 0.0138 - acc: 0.9993 - val_loss: 0.5438 - val_acc: 0.8665\n",
      "Epoch 27/40\n",
      "15000/15000 [==============================] - 1s 80us/step - loss: 0.0133 - acc: 0.9993 - val_loss: 0.5506 - val_acc: 0.8647\n",
      "Epoch 28/40\n",
      "15000/15000 [==============================] - 1s 80us/step - loss: 0.0127 - acc: 0.9995 - val_loss: 0.5556 - val_acc: 0.8648\n",
      "Epoch 29/40\n",
      "15000/15000 [==============================] - 1s 80us/step - loss: 0.0124 - acc: 0.9994 - val_loss: 0.5606 - val_acc: 0.8646\n",
      "Epoch 30/40\n",
      "15000/15000 [==============================] - 1s 80us/step - loss: 0.0120 - acc: 0.9995 - val_loss: 0.5652 - val_acc: 0.8643\n",
      "Epoch 31/40\n",
      "15000/15000 [==============================] - 1s 78us/step - loss: 0.0115 - acc: 0.9995 - val_loss: 0.5689 - val_acc: 0.8650\n",
      "Epoch 32/40\n",
      "15000/15000 [==============================] - 1s 80us/step - loss: 0.0111 - acc: 0.9995 - val_loss: 0.5746 - val_acc: 0.8644\n",
      "Epoch 33/40\n",
      "15000/15000 [==============================] - 1s 80us/step - loss: 0.0106 - acc: 0.9996 - val_loss: 0.5805 - val_acc: 0.8642\n",
      "Epoch 34/40\n",
      "15000/15000 [==============================] - 1s 80us/step - loss: 0.0103 - acc: 0.9996 - val_loss: 0.5872 - val_acc: 0.8633\n",
      "Epoch 35/40\n",
      "15000/15000 [==============================] - 1s 80us/step - loss: 0.0099 - acc: 0.9996 - val_loss: 0.5912 - val_acc: 0.8633\n",
      "Epoch 36/40\n",
      "15000/15000 [==============================] - 1s 80us/step - loss: 0.0096 - acc: 0.9996 - val_loss: 0.5933 - val_acc: 0.8642\n",
      "Epoch 37/40\n",
      "15000/15000 [==============================] - 1s 80us/step - loss: 0.0093 - acc: 0.9997 - val_loss: 0.5991 - val_acc: 0.8632\n",
      "Epoch 38/40\n",
      "15000/15000 [==============================] - 1s 80us/step - loss: 0.0089 - acc: 0.9997 - val_loss: 0.6038 - val_acc: 0.8636\n",
      "Epoch 39/40\n",
      "15000/15000 [==============================] - 1s 80us/step - loss: 0.0086 - acc: 0.9997 - val_loss: 0.6088 - val_acc: 0.8630\n",
      "Epoch 40/40\n",
      "15000/15000 [==============================] - 1s 80us/step - loss: 0.0083 - acc: 0.9997 - val_loss: 0.6115 - val_acc: 0.8626\n"
     ]
    }
   ],
   "source": [
    "history = model.fit(partial_x_train,\n",
    "                    partial_y_train,\n",
    "                    epochs=40,\n",
    "                    batch_size=512,\n",
    "                    validation_data=(x_val, y_val),\n",
    "                    verbose=1)"
   ]
  },
  {
   "cell_type": "markdown",
   "metadata": {},
   "source": [
    "## Evaluate the model"
   ]
  },
  {
   "cell_type": "code",
   "execution_count": 26,
   "metadata": {},
   "outputs": [
    {
     "name": "stdout",
     "output_type": "stream",
     "text": [
      "25000/25000 [==============================] - 0s 19us/step\n",
      "[0.43606528245687487, 0.85976]\n"
     ]
    }
   ],
   "source": [
    "results = model.evaluate(test_data, test_labels)\n",
    "\n",
    "print(results)"
   ]
  },
  {
   "cell_type": "markdown",
   "metadata": {},
   "source": [
    "## Create a graph of accuracy and loss over time\n",
    "model.fit() returns a History object that contains a dictionary with everything that happened during training:"
   ]
  },
  {
   "cell_type": "code",
   "execution_count": 21,
   "metadata": {},
   "outputs": [
    {
     "data": {
      "text/plain": [
       "['acc', 'loss', 'val_acc', 'val_loss']"
      ]
     },
     "execution_count": 21,
     "metadata": {},
     "output_type": "execute_result"
    }
   ],
   "source": [
    "history_dict = history.history\n",
    "history_dict.keys()"
   ]
  },
  {
   "cell_type": "code",
   "execution_count": 23,
   "metadata": {},
   "outputs": [
    {
     "data": {
      "image/png": "[encoded data removed]",
      "text/plain": [
       "<Figure size 432x288 with 1 Axes>"
      ]
     },
     "metadata": {
      "needs_background": "light"
     },
     "output_type": "display_data"
    }
   ],
   "source": [
    "import matplotlib.pyplot as plt\n",
    "\n",
    "acc = history.history['acc']\n",
    "val_acc = history.history['val_acc']\n",
    "loss = history.history['loss']\n",
    "val_loss = history.history['val_loss']\n",
    "\n",
    "epochs = range(1, len(acc) + 1)\n",
    "\n",
    "# \"bo\" is for \"blue dot\"\n",
    "plt.plot(epochs, loss, 'bo', label='Training loss')\n",
    "# b is for \"solid blue line\"\n",
    "plt.plot(epochs, val_loss, 'b', label='Validation loss')\n",
    "plt.title('Training and validation loss')\n",
    "plt.xlabel('Epochs')\n",
    "plt.ylabel('Loss')\n",
    "plt.legend()\n",
    "\n",
    "plt.show()"
   ]
  },
  {
   "cell_type": "code",
   "execution_count": 24,
   "metadata": {},
   "outputs": [
    {
     "data": {
      "image/png": "[encoded data removed]",
      "text/plain": [
       "<Figure size 432x288 with 1 Axes>"
      ]
     },
     "metadata": {
      "needs_background": "light"
     },
     "output_type": "display_data"
    }
   ],
   "source": [
    "plt.clf()   # clear figure\n",
    "acc_values = history_dict['acc']\n",
    "val_acc_values = history_dict['val_acc']\n",
    "\n",
    "plt.plot(epochs, acc, 'bo', label='Training acc')\n",
    "plt.plot(epochs, val_acc, 'b', label='Validation acc')\n",
    "plt.title('Training and validation accuracy')\n",
    "plt.xlabel('Epochs')\n",
    "plt.ylabel('Accuracy')\n",
    "plt.legend()\n",
    "\n",
    "plt.show()"
   ]
  },
  {
   "cell_type": "code",
   "execution_count": null,
   "metadata": {},
   "outputs": [],
   "source": []
  }
 ],
 "metadata": {
  "kernelspec": {
   "display_name": "Python 2",
   "language": "python",
   "name": "python2"
  },
  "language_info": {
   "codemirror_mode": {
    "name": "ipython",
    "version": 2
   },
   "file_extension": ".py",
   "mimetype": "text/x-python",
   "name": "python",
   "nbconvert_exporter": "python",
   "pygments_lexer": "ipython2",
   "version": "2.7.12"
  }
 },
 "nbformat": 4,
 "nbformat_minor": 2
}
